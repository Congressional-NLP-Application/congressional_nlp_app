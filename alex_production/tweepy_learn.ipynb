{
 "cells": [
  {
   "cell_type": "markdown",
   "metadata": {},
   "source": [
    "# Tweepy Learning Process, begin tweet input"
   ]
  },
  {
   "cell_type": "markdown",
   "metadata": {},
   "source": [
    "### Import Statements\n",
    "os, dotenv help to load in api keys/ tokens saved to a .env file. Tweepy provides API for tweet scraping"
   ]
  },
  {
   "cell_type": "code",
   "execution_count": 2,
   "metadata": {},
   "outputs": [],
   "source": [
    "from os import getenv\n",
    "from dotenv import load_dotenv\n",
    "import tweepy"
   ]
  },
  {
   "cell_type": "code",
   "execution_count": 3,
   "metadata": {},
   "outputs": [],
   "source": [
    "# Load dot env takes a filepath as argument. \n",
    "# r allows us to read the filepath as a string. Python can be weird about filepaths.\n",
    "load_dotenv(r\"C:\\Users\\Alex Lucchesi\\OneDrive\\Documents\\GitHub\\congressional_sentiment_NLP\\app\\.env\")\n",
    "\n",
    "# Read in and instantiate keys/tokens\n",
    "twitter_api_key = getenv(\"API_KEY\")\n",
    "twitter_api_key_secret = getenv(\"API_KEY_SECRET\")\n",
    "access_token = getenv(\"ACCESS_TOKEN\")\n",
    "access_token_secret = getenv(\"ACCESS_TOKEN_SECRET\")"
   ]
  },
  {
   "cell_type": "code",
   "execution_count": 4,
   "metadata": {},
   "outputs": [],
   "source": [
    "# Create authorization and access to scraping api\n",
    "auth = tweepy.OAuthHandler(twitter_api_key, twitter_api_key_secret)\n",
    "auth.set_access_token(access_token, access_token_secret)\n",
    "api = tweepy.API(auth)"
   ]
  },
  {
   "cell_type": "code",
   "execution_count": 6,
   "metadata": {},
   "outputs": [
    {
     "name": "stdout",
     "output_type": "stream",
     "text": [
      "The majority of Americans support #RoeVWade and don't want to see it overturned—they want a country where everyone… https://t.co/xqejdCBGLK\n",
      "As Chair of @HELPCmteDems, I’m fighting every day to protect every single worker’s right to form and join a union—a… https://t.co/QdWKSMZUoL\n",
      "ICYMI: I recently joined @MomsRising and Seattle families for a virtual town hall where I discussed the work I’m do… https://t.co/lniMTNT7BS\n",
      "Protecting DACA recipients is one of the many reasons we need a fair pathway to citizenship. https://t.co/h27OA1UDBa\n",
      "Tackling the climate crisis means: \n",
      " \n",
      "⚡Prioritizing clean energy\n",
      "🏭Cleaning up pollution\n",
      "⚒️Creating good-paying job opportunities\n",
      "Washington state workers and families know how important paid family and medical leave is—and it’s why a vast major… https://t.co/vZ45ZVZEa8\n",
      "Today, we’re the only country in the developed world where people don’t have paid parental leave. And we also know… https://t.co/yUONxxkqtN\n",
      "Each year, nearly 7 million people need to take leave from work but don’t because they can’t afford to not get paid… https://t.co/efuenkn1LA\n",
      "The call for paid leave has never been clearer or louder from all corners of our country.\n",
      "\n",
      "And @gillibrandny and I… https://t.co/fvUAUHOHH1\n",
      "29 years ago, Congress passed #FMLA—a groundbreaking first step that helped workers care for themselves &amp; their fam… https://t.co/8J1lNa4pDn\n",
      "Thanks to funds from the American Rescue Plan, @CityofSeattle provided child care workers with direct relief—a life… https://t.co/gpFCIzqqSL\n",
      "Birth control is essential health care—full stop—and I’m doing everything I can to make sure that patients can get… https://t.co/i9P6McGvFc\n",
      "I’ve heard from people in Washington state frustrated by the problems in our COVID-19 response. Our bipartisan bill… https://t.co/NXKqValyjr\n",
      "Last week I joined grant recipients of @KingCountyWA's Vulnerable Adults Digital Equity Program, which serves peopl… https://t.co/wpfgbdgfkp\n",
      "It’s 2022—everyone should have access to high-speed internet. I fought to make sure people in WA state could get ch… https://t.co/UsYqUvv826\n",
      "Just like people across the country aren’t giving up on protecting the right to vote, I’m not either. I’m still pus… https://t.co/ZMWwxQVK64\n",
      "If you or a loved one need help or someone to talk to, the National Suicide Prevention Lifeline is free, confidenti… https://t.co/tlQE51U8B3\n",
      "TW: mental health and suicide.\n",
      "\n",
      "To prevent suicide, it cannot be a taboo topic. We need to be able to talk about it… https://t.co/DsZ7oop6FY\n",
      "Inaction on climate is going to cost us. Literally. https://t.co/JLGE4oQVB2\n",
      "The RAISE program I created continues to fund infrastructure projects in Washington state—helping  strengthen our s… https://t.co/9L5Uguz94Y\n"
     ]
    }
   ],
   "source": [
    "# Test case to ensure proper access is granted.\n",
    "congress_member = 'PattyMurray'\n",
    "\n",
    "public_tweets = api.user_timeline(screen_name=congress_member)\n",
    "for tweet in public_tweets:\n",
    "    print(tweet.text)"
   ]
  }
 ],
 "metadata": {
  "interpreter": {
   "hash": "17cb72846b162d197ee6b195e68a5b6c13f64f8d3b34cab2bc714a825ebdf043"
  },
  "kernelspec": {
   "display_name": "Python 3.9.5 64-bit",
   "language": "python",
   "name": "python3"
  },
  "language_info": {
   "codemirror_mode": {
    "name": "ipython",
    "version": 3
   },
   "file_extension": ".py",
   "mimetype": "text/x-python",
   "name": "python",
   "nbconvert_exporter": "python",
   "pygments_lexer": "ipython3",
   "version": "3.9.5"
  },
  "orig_nbformat": 4
 },
 "nbformat": 4,
 "nbformat_minor": 2
}
