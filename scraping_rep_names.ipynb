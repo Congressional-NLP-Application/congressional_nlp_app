{
 "cells": [
  {
   "cell_type": "markdown",
   "metadata": {},
   "source": [
    "### Establishing Assets"
   ]
  },
  {
   "cell_type": "code",
   "execution_count": 2,
   "metadata": {},
   "outputs": [],
   "source": [
    "import pandas as pd\n",
    "import urllib\n",
    "\n",
    "house_url = 'https://www.house.gov/representatives'\n",
    "senate_url = ''\n",
    "\n",
    "representatives = pd.read_html(house_url)\n"
   ]
  },
  {
   "cell_type": "code",
   "execution_count": 3,
   "metadata": {},
   "outputs": [
    {
     "name": "stdout",
     "output_type": "stream",
     "text": [
      "  District              Name Party Office Room           Phone  \\\n",
      "0      1st    Carl, Jerry L.     R   1330 LHOB  (202) 225-4931   \n",
      "1      2nd      Moore, Barry     R   1504 LHOB  (202) 225-2901   \n",
      "2      3rd      Rogers, Mike     R   2469 RHOB  (202) 225-3261   \n",
      "3      4th  Aderholt, Robert     R    266 CHOB  (202) 225-4876   \n",
      "4      5th        Brooks, Mo     R   2185 RHOB  (202) 225-4801   \n",
      "5      6th      Palmer, Gary     R    170 CHOB  (202) 225-4921   \n",
      "6      7th  Sewell, Terri A.     D   2201 RHOB  (202) 225-2665   \n",
      "\n",
      "                           Committee Assignment  \n",
      "0               Armed ServicesNatural Resources  \n",
      "1                  AgricultureVeterans' Affairs  \n",
      "2                                Armed Services  \n",
      "3                                Appropriations  \n",
      "4  Armed ServicesScience, Space, and Technology  \n",
      "5             Climate CrisisEnergy and Commerce  \n",
      "6                                Ways and Means  \n"
     ]
    }
   ],
   "source": [
    "print(representatives[0])"
   ]
  }
 ],
 "metadata": {
  "interpreter": {
   "hash": "3f8956436d8ce59f668ff26075b9e4d053dba06b7526eb5909008814682cd7e3"
  },
  "kernelspec": {
   "display_name": "Python 3.8.8 ('base')",
   "language": "python",
   "name": "python3"
  },
  "language_info": {
   "codemirror_mode": {
    "name": "ipython",
    "version": 3
   },
   "file_extension": ".py",
   "mimetype": "text/x-python",
   "name": "python",
   "nbconvert_exporter": "python",
   "pygments_lexer": "ipython3",
   "version": "3.8.8"
  },
  "orig_nbformat": 4
 },
 "nbformat": 4,
 "nbformat_minor": 2
}
