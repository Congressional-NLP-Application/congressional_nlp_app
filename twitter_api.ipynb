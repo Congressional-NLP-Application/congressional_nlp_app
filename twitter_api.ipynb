{
 "cells": [
  {
   "cell_type": "markdown",
   "metadata": {},
   "source": [
    "### Establishing Tools"
   ]
  },
  {
   "cell_type": "code",
   "execution_count": 16,
   "metadata": {},
   "outputs": [],
   "source": [
    "import tweepy\n",
    "import pandas as pd\n",
    "import config\n"
   ]
  },
  {
   "cell_type": "code",
   "execution_count": 17,
   "metadata": {},
   "outputs": [],
   "source": [
    "#Setup access to API\n",
    "\n",
    "auth = tweepy.OAuthHandler(ef_twitter_keys['ef_api_key'], ef_twitter_keys['ef_api_secret'])\n",
    "auth.set_access_token(ef_twitter_keys['ef_access_token_key'], ef_twitter_keys['ef_access_token_secret'])\n",
    "\n",
    "api = tweepy.API(auth)"
   ]
  },
  {
   "cell_type": "markdown",
   "metadata": {},
   "source": [
    "### Pulling Data"
   ]
  },
  {
   "cell_type": "code",
   "execution_count": 18,
   "metadata": {},
   "outputs": [
    {
     "name": "stdout",
     "output_type": "stream",
     "text": [
      "Just hours into the #GenocideGames thugs from the Communist Party of #China are already harassing foreign journalis… https://t.co/FNe8OGHfu9\n",
      "Don’t help a genocidal regime turn the Olympics into propaganda &amp; financial win for them\n",
      "\n",
      " https://t.co/9yR9kNcJmd\n",
      "I wish nothing but the best for all the Americans competing at #Beijing2022 \n",
      "\n",
      "But I won’t watch,follow or celebrate… https://t.co/h6IRGFSu4r\n",
      "The people who justified rioting,looting &amp; violence by marxist groups are the same ones calling truckers who just w… https://t.co/nHh7kXdrlk\n",
      "Olympians have the opportunity to express their solidarity with the victims of #China's genocide during… https://t.co/JeKgnFkeAi\n",
      "If we have to choose between focusing on the border or focusing on #Ukraine it should be our border\n",
      "\n",
      "The good news… https://t.co/DQB6uGbVty\n",
      "A panel of experts have informed our intelligence agencies that American diplomats were attacked by directed, pulse… https://t.co/Zubi1XaCvl\n",
      "No one supports or is calling for sending U.S. troops to fight in #Ukraine \n",
      "\n",
      "Not even Ukraine\n",
      "\n",
      "But if there aren’t… https://t.co/GDbUMiGzVS\n",
      "He tortured Dolfans as a Patriot &amp; then brought the title back to Florida as a Buccaneer \n",
      "\n",
      "But his true legacy isn’… https://t.co/vNLwaOcWhv\n",
      "The Olympics are being hosted by a genocidal Communist government in #China \n",
      "\n",
      "https://t.co/7dBMduMF6J\n",
      "Yet it was our pain that he bore,our sufferings he endured.\n",
      "We thought of him as stricken,struck down by God and afflicted\n",
      "\n",
      "Isaiah 53:4\n",
      "Today we reminded everyone that the Everglades Agricultural Area (EAA) Reservoir is the single most important proje… https://t.co/CjRGfxGjJb\n",
      "Yesterday about a dozen (apparently illiterate) clowns displayed anti-Semitic messages on an overpass in Central Fl… https://t.co/PAT0jJlSir\n",
      "If hope they catch whoever called in threats against 6 HBCU’s \n",
      "\n",
      "Not only so they can be prosecuted, but also so we… https://t.co/asjVJW6u9m\n",
      "One day we will learn just what kind of deal with the devil the @nfl made in exchange for the last two weekends of playoff games\n",
      "“Amen, I say to you, no prophet is accepted in his own native place.”\n",
      "\n",
      "Luke 4:24\n",
      "In 5500 years of recorded human history there has never been a pregnant man \n",
      "\n",
      "But if that day should ever come figu… https://t.co/TI6AwrDlX1\n",
      "The Miami Herald ignored Florida law &amp; reported the name of a officer involved in a shooting despite knowing it cou… https://t.co/CcOBoiVtQw\n",
      "When I first heard Latinx I thought it was the name of a band\n",
      "\n",
      "https://t.co/U9u0n6SMbD #FoxNews\n",
      "“To what shall we compare the kingdom of God…? It is like a mustard seed…the smallest of all the seeds on the earth… https://t.co/je9qKFMaOR\n"
     ]
    }
   ],
   "source": [
    "# Pull congress members' tweets\n",
    "\n",
    "congress_member = 'marcorubio'\n",
    "\n",
    "public_tweets = api.user_timeline(screen_name=congress_member)\n",
    "for tweet in public_tweets:\n",
    "    print(tweet.text)"
   ]
  }
 ],
 "metadata": {
  "interpreter": {
   "hash": "a366ad1b7763c21e875454241ba409e064541251297b02a7e02d8c7d8f1a6490"
  },
  "kernelspec": {
   "display_name": "Python 3.8.8 ('env': venv)",
   "language": "python",
   "name": "python3"
  },
  "language_info": {
   "codemirror_mode": {
    "name": "ipython",
    "version": 3
   },
   "file_extension": ".py",
   "mimetype": "text/x-python",
   "name": "python",
   "nbconvert_exporter": "python",
   "pygments_lexer": "ipython3",
   "version": "3.8.8"
  },
  "orig_nbformat": 4
 },
 "nbformat": 4,
 "nbformat_minor": 2
}
